{
 "cells": [
  {
   "cell_type": "code",
   "execution_count": 1,
   "metadata": {},
   "outputs": [],
   "source": [
    "import json\n",
    "from amadeusClient import amaclient\n",
    "import pandas as pd\n",
    "\n",
    "def get_flight_offers_search(o_place,d_place,depart_date,adults):\n",
    "    try:\n",
    "        response = amaclient.shopping.flight_offers_search.get(\n",
    "            originLocationCode=o_place,\n",
    "            destinationLocationCode=d_place,\n",
    "            departureDate=depart_date,\n",
    "            adults=adults)\n",
    "        print(\"OK\")\n",
    "        return response \n",
    "    except Exception as error:\n",
    "        print(\"KO\")\n",
    "        print(f\"Error : {error}\")\n",
    "        return -1\n",
    "    return True\n"
   ]
  },
  {
   "cell_type": "code",
   "execution_count": null,
   "metadata": {},
   "outputs": [],
   "source": [
    "\n",
    "o_place = \"NCE\"\n",
    "d_place = \"MPL\"\n",
    "depart_date = \"2022-12-15\"\n",
    "adults = \"1\"\n",
    "\n",
    "res = get_flight_offers_search(o_place,d_place,depart_date,adults)\n",
    "df = pd.DataFrame(res.data)\n",
    "\n"
   ]
  },
  {
   "cell_type": "code",
   "execution_count": 11,
   "metadata": {},
   "outputs": [
    {
     "data": {
      "text/plain": [
       "{'duration': 'PT13H',\n",
       " 'segments': [{'departure': {'iataCode': 'NCE',\n",
       "    'terminal': '2',\n",
       "    'at': '2022-12-15T20:30:00'},\n",
       "   'arrival': {'iataCode': 'ORY',\n",
       "    'terminal': '2',\n",
       "    'at': '2022-12-15T22:00:00'},\n",
       "   'carrierCode': 'AF',\n",
       "   'number': '6239',\n",
       "   'aircraft': {'code': '321'},\n",
       "   'operating': {'carrierCode': 'AF'},\n",
       "   'duration': 'PT1H30M',\n",
       "   'id': '3',\n",
       "   'numberOfStops': 0,\n",
       "   'blacklistedInEU': False},\n",
       "  {'departure': {'iataCode': 'CDG',\n",
       "    'terminal': '2F',\n",
       "    'at': '2022-12-16T08:10:00'},\n",
       "   'arrival': {'iataCode': 'MPL', 'at': '2022-12-16T09:30:00'},\n",
       "   'carrierCode': 'AF',\n",
       "   'number': '7688',\n",
       "   'aircraft': {'code': '321'},\n",
       "   'operating': {'carrierCode': 'AF'},\n",
       "   'duration': 'PT1H20M',\n",
       "   'id': '4',\n",
       "   'numberOfStops': 0,\n",
       "   'blacklistedInEU': False}]}"
      ]
     },
     "execution_count": 11,
     "metadata": {},
     "output_type": "execute_result"
    }
   ],
   "source": [
    "df['itineraries'][0][0]"
   ]
  },
  {
   "cell_type": "code",
   "execution_count": 7,
   "metadata": {},
   "outputs": [],
   "source": [
    "df.to_html(\"test.html\")"
   ]
  },
  {
   "cell_type": "code",
   "execution_count": null,
   "metadata": {},
   "outputs": [],
   "source": []
  }
 ],
 "metadata": {
  "kernelspec": {
   "display_name": "Python 3.10.6 64-bit",
   "language": "python",
   "name": "python3"
  },
  "language_info": {
   "codemirror_mode": {
    "name": "ipython",
    "version": 3
   },
   "file_extension": ".py",
   "mimetype": "text/x-python",
   "name": "python",
   "nbconvert_exporter": "python",
   "pygments_lexer": "ipython3",
   "version": "3.10.6"
  },
  "orig_nbformat": 4,
  "vscode": {
   "interpreter": {
    "hash": "916dbcbb3f70747c44a77c7bcd40155683ae19c65e1c03b4aa3499c5328201f1"
   }
  }
 },
 "nbformat": 4,
 "nbformat_minor": 2
}
